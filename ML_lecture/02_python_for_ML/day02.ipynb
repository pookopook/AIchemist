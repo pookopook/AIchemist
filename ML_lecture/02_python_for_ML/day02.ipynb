{
 "cells": [
  {
   "cell_type": "markdown",
   "metadata": {},
   "source": [
    "# 2회차 스터디\n",
    " - 1회차 복습\n",
    " - 데이터 분석과정\n",
    " - 데이터 불러오기\n",
    " - 시각화"
   ]
  },
  {
   "cell_type": "markdown",
   "metadata": {},
   "source": [
    "# 파이썬 기초 문법(복습)"
   ]
  },
  {
   "cell_type": "code",
   "execution_count": 48,
   "metadata": {},
   "outputs": [],
   "source": [
    "import pandas as pd\n",
    "import numpy as np"
   ]
  },
  {
   "cell_type": "markdown",
   "metadata": {},
   "source": [
    "## 변수 만들기"
   ]
  },
  {
   "cell_type": "code",
   "execution_count": 12,
   "metadata": {},
   "outputs": [
    {
     "name": "stdout",
     "output_type": "stream",
     "text": [
      "이름: 홍길동, 나이: 35, 키: 170\n"
     ]
    }
   ],
   "source": [
    "name = \"홍길동\"\n",
    "age = 35\n",
    "height = 170\n",
    "print(f\"\"\"이름: {name}, 나이: {age}, 키: {height}\"\"\")    # f-string "
   ]
  },
  {
   "cell_type": "code",
   "execution_count": 13,
   "metadata": {},
   "outputs": [
    {
     "name": "stdout",
     "output_type": "stream",
     "text": [
      "이름: 홍길동, 나이: 170.5, 키: 35\n"
     ]
    }
   ],
   "source": [
    "# 내 마음대로 변수 이름을 지을 수 있습니다.\n",
    "# 그렇다면 어떤 일이 벌어질까요?\n",
    "age = 170.5     \n",
    "height = 35\n",
    "print(f\"\"\"이름: {name}, 나이: {age}, 키: {height}\"\"\")    # f-string "
   ]
  },
  {
   "cell_type": "code",
   "execution_count": 11,
   "metadata": {},
   "outputs": [
    {
     "data": {
      "text/plain": [
       "(str, float, int)"
      ]
     },
     "execution_count": 11,
     "metadata": {},
     "output_type": "execute_result"
    }
   ],
   "source": [
    "# 변수 타입 확인\n",
    "type(이름), type(age), type(height)"
   ]
  },
  {
   "cell_type": "code",
   "execution_count": 7,
   "metadata": {},
   "outputs": [
    {
     "name": "stdout",
     "output_type": "stream",
     "text": [
      "안녕하세요\n"
     ]
    }
   ],
   "source": [
    "# 한글 변수명도 가능합니다.\n",
    "인사말 = '안녕하세요'\n",
    "print(인사말)"
   ]
  },
  {
   "cell_type": "code",
   "execution_count": 17,
   "metadata": {
    "collapsed": true,
    "jupyter": {
     "outputs_hidden": true
    }
   },
   "outputs": [
    {
     "name": "stdout",
     "output_type": "stream",
     "text": [
      "[1, 2, 3, 4, 5] <class 'list'>\n"
     ]
    }
   ],
   "source": [
    "# 리스트도 가능합니다.\n",
    "lst = [1, 2, 3, 4, 5]\n",
    "print(lst, type(lst))"
   ]
  },
  {
   "cell_type": "markdown",
   "metadata": {},
   "source": [
    "## 연산자"
   ]
  },
  {
   "cell_type": "code",
   "execution_count": null,
   "metadata": {},
   "outputs": [
    {
     "name": "stdout",
     "output_type": "stream",
     "text": [
      "13\n",
      "7\n",
      "30\n",
      "3.3333333333333335\n",
      "3\n",
      "1\n",
      "1000\n"
     ]
    }
   ],
   "source": [
    "a = 10\n",
    "b = 3\n",
    "# 산술연산\n",
    "print(a + b)   # 덧셈 → 13\n",
    "print(a - b)   # 뺄셈 → 7\n",
    "print(a * b)   # 곱셈 → 30\n",
    "print(a / b)   # 나눗셈 (실수 결과) → 3.333...\n",
    "print(a // b)  # 몫 → 3\n",
    "print(a % b)   # 나머지 → 1\n",
    "print(a ** b)  # 거듭제곱 → 1000"
   ]
  },
  {
   "cell_type": "code",
   "execution_count": 16,
   "metadata": {},
   "outputs": [
    {
     "name": "stdout",
     "output_type": "stream",
     "text": [
      "False\n",
      "True\n",
      "False\n",
      "True\n",
      "False\n",
      "True\n"
     ]
    }
   ],
   "source": [
    "a, b = 5, 10\n",
    "\n",
    "# 비교연산\n",
    "print(a == b)   # 같음 → False\n",
    "print(a != b)   # 다름 → True\n",
    "print(a > b)    # 큼 → False\n",
    "print(a < b)    # 작음 → True\n",
    "print(a >= b)   # 크거나 같음 → False\n",
    "print(a <= b)   # 작거나 같음 → True"
   ]
  },
  {
   "cell_type": "code",
   "execution_count": null,
   "metadata": {},
   "outputs": [
    {
     "name": "stdout",
     "output_type": "stream",
     "text": [
      "6.0\n"
     ]
    }
   ],
   "source": [
    "# 대입\n",
    "a = 10\n",
    "a = a + 5\n",
    "a = a - 3\n",
    "a = a * 2\n",
    "a = a / 4\n",
    "print(a)"
   ]
  },
  {
   "cell_type": "code",
   "execution_count": null,
   "metadata": {},
   "outputs": [
    {
     "name": "stdout",
     "output_type": "stream",
     "text": [
      "6.0\n"
     ]
    }
   ],
   "source": [
    "# 복합 대입 연산\n",
    "a = 10\n",
    "a += 5\n",
    "a -= 3\n",
    "a *= 2\n",
    "a /= 4\n",
    "print(a)"
   ]
  },
  {
   "cell_type": "code",
   "execution_count": null,
   "metadata": {},
   "outputs": [
    {
     "name": "stdout",
     "output_type": "stream",
     "text": [
      "Hello World 여러 줄\n",
      "문자열도\n",
      "가능\n"
     ]
    }
   ],
   "source": [
    "# 문자열 생성과 출력\n",
    "s1 = \"Hello\"\n",
    "s2 = 'World'\n",
    "s3 = \"\"\"여러 줄\n",
    "문자열도\n",
    "가능\"\"\"\n",
    "print(s1, s2, s3)"
   ]
  },
  {
   "cell_type": "code",
   "execution_count": 49,
   "metadata": {},
   "outputs": [
    {
     "name": "stdout",
     "output_type": "stream",
     "text": [
      "P\n",
      "n\n",
      "Pyt\n",
      "Pto\n"
     ]
    }
   ],
   "source": [
    "#문자열 인덱싱과 슬라이싱\n",
    "s = \"Python\"\n",
    "print(s[0])    # 'P' (첫 번째 문자)\n",
    "print(s[-1])   # 'n' (뒤에서 첫 번째)\n",
    "print(s[0:3])  # 'Pyt' (슬라이싱)\n",
    "print(s[::2])  # 'Pto' (2칸씩 건너뜀)"
   ]
  },
  {
   "cell_type": "code",
   "execution_count": 51,
   "metadata": {},
   "outputs": [
    {
     "name": "stdout",
     "output_type": "stream",
     "text": [
      "   python is fun!   \n",
      "   PYTHON IS FUN!   \n",
      "Python is Fun!\n",
      "   Python is Awesome!   \n",
      "['Python', 'is', 'Fun!']\n",
      "2025-08-31\n"
     ]
    }
   ],
   "source": [
    "# 문자열 메서드\n",
    "text = \"   Python is Fun!   \"\n",
    "\n",
    "print(text.lower())   # 소문자 변환\n",
    "print(text.upper())   # 대문자 변환\n",
    "print(text.strip())   # 양쪽 공백 제거\n",
    "print(text.replace(\"Fun\", \"Awesome\"))  # 치환\n",
    "print(text.split())   # 공백 기준 분리 → ['Python', 'is', 'Fun!']\n",
    "print(\"-\".join([\"2025\", \"08\", \"31\"]))  # 결합 → '2025-08-31'"
   ]
  },
  {
   "cell_type": "code",
   "execution_count": 55,
   "metadata": {},
   "outputs": [
    {
     "name": "stdout",
     "output_type": "stream",
     "text": [
      "강원특별자치도\n",
      "원주시\n"
     ]
    }
   ],
   "source": [
    "# 주소 데이터를 활용하기\n",
    "addr = \"강원특별자치도 원주시 양지로 XXX\"\n",
    "\n",
    "parts = addr.split()\n",
    "\n",
    "first = parts[0]   # '강원특별자치도'\n",
    "second = parts[1]  # '원주시'\n",
    "\n",
    "print(first)\n",
    "print(second)"
   ]
  },
  {
   "cell_type": "markdown",
   "metadata": {},
   "source": [
    "## 리스트\n",
    " - 인덱싱, 슬라이싱"
   ]
  },
  {
   "cell_type": "markdown",
   "metadata": {},
   "source": [
    "| 구분   | 인덱싱 (Indexing)    | 슬라이싱 (Slicing)              |\n",
    "|--------|----------------------|---------------------------------|\n",
    "| 문법   | `lst[i]`             | `lst[start:end:step]`           |\n",
    "| 결과   | **값 하나**          | **리스트 (여러 값)**            |\n",
    "| 활용   | 특정 위치 값 추출     | 연속된 구간, 부분집합, 역순, 샘플링 |"
   ]
  },
  {
   "cell_type": "markdown",
   "metadata": {},
   "source": [
    "#### 리스트 만들기"
   ]
  },
  {
   "cell_type": "code",
   "execution_count": 152,
   "metadata": {},
   "outputs": [
    {
     "data": {
      "text/plain": [
       "[1, 2, 3, 4, 5]"
      ]
     },
     "execution_count": 152,
     "metadata": {},
     "output_type": "execute_result"
    }
   ],
   "source": [
    "lst = [1,2,3,4,5]   # 빈 리스트는 lst = []\n",
    "lst"
   ]
  },
  {
   "cell_type": "code",
   "execution_count": 157,
   "metadata": {},
   "outputs": [
    {
     "data": {
      "text/plain": [
       "[0, 1, 2, 3, 4, 5, 6, 7, 8, 9]"
      ]
     },
     "execution_count": 157,
     "metadata": {},
     "output_type": "execute_result"
    }
   ],
   "source": [
    "lst = list(range(10))  # range를 쓸 수도 있습니다.\n",
    "lst"
   ]
  },
  {
   "cell_type": "markdown",
   "metadata": {},
   "source": [
    "#### 인덱싱과 슬라이싱"
   ]
  },
  {
   "cell_type": "code",
   "execution_count": 89,
   "metadata": {},
   "outputs": [
    {
     "data": {
      "text/plain": [
       "0"
      ]
     },
     "execution_count": 89,
     "metadata": {},
     "output_type": "execute_result"
    }
   ],
   "source": [
    "# 첫번째 요소 출력\n",
    "lst[0]"
   ]
  },
  {
   "cell_type": "code",
   "execution_count": 154,
   "metadata": {},
   "outputs": [
    {
     "data": {
      "text/plain": [
       "[1, 2]"
      ]
     },
     "execution_count": 154,
     "metadata": {},
     "output_type": "execute_result"
    }
   ],
   "source": [
    "#2~3번째 요소 출력\n",
    "lst[1:3]"
   ]
  },
  {
   "cell_type": "code",
   "execution_count": 155,
   "metadata": {},
   "outputs": [
    {
     "data": {
      "text/plain": [
       "[8, 9]"
      ]
     },
     "execution_count": 155,
     "metadata": {},
     "output_type": "execute_result"
    }
   ],
   "source": [
    "# 마지막 요소 두개 출력\n",
    "lst[-2:]"
   ]
  },
  {
   "cell_type": "code",
   "execution_count": 162,
   "metadata": {},
   "outputs": [
    {
     "data": {
      "text/plain": [
       "[0, 1, 3, 5, 7, 9]"
      ]
     },
     "execution_count": 162,
     "metadata": {},
     "output_type": "execute_result"
    }
   ],
   "source": [
    "lst[::2]  # 2칸씩 건너뜀"
   ]
  },
  {
   "cell_type": "code",
   "execution_count": 160,
   "metadata": {},
   "outputs": [
    {
     "data": {
      "text/plain": [
       "[10, 9, 8, 7, 6, 5, 4, 3, 2, 1, 5, 0]"
      ]
     },
     "execution_count": 160,
     "metadata": {},
     "output_type": "execute_result"
    }
   ],
   "source": [
    "# 역순\n",
    "lst[::-1]"
   ]
  },
  {
   "cell_type": "code",
   "execution_count": null,
   "metadata": {},
   "outputs": [
    {
     "data": {
      "text/plain": [
       "[10, 8, 6, 4, 2, 5]"
      ]
     },
     "execution_count": 161,
     "metadata": {},
     "output_type": "execute_result"
    }
   ],
   "source": [
    "lst[::-2] # 역순 2칸씩"
   ]
  },
  {
   "cell_type": "markdown",
   "metadata": {},
   "source": [
    "##### 리스트 관련 함수\n",
    " - .append(#)\n",
    " - .insert(#1,#2) #1위치에, #2를 삽입\n",
    " - .index(#) #의 위치를 알려줌\n",
    " - .sort()\n",
    " - .reverse()\n",
    " - .remove(#) 리스트에서 첫번째 #삭제\n",
    " "
   ]
  },
  {
   "cell_type": "code",
   "execution_count": null,
   "metadata": {},
   "outputs": [
    {
     "name": "stdout",
     "output_type": "stream",
     "text": [
      "before - [0, 1, 2, 3, 4, 5, 6, 7, 8, 9]\n",
      "after - [0, 1, 2, 3, 4, 5, 6, 7, 8, 9, 10]\n"
     ]
    }
   ],
   "source": [
    "print(f'before - {lst}')\n",
    "lst.append(10)  # 마지막에 10 추가\n",
    "print(f' after - {lst}')\n"
   ]
  },
  {
   "cell_type": "code",
   "execution_count": 159,
   "metadata": {},
   "outputs": [
    {
     "data": {
      "text/plain": [
       "[0, 5, 1, 2, 3, 4, 5, 6, 7, 8, 9, 10]"
      ]
     },
     "execution_count": 159,
     "metadata": {},
     "output_type": "execute_result"
    }
   ],
   "source": [
    "lst.insert(1, 5)  # 1번째 위치에 5 추가\n",
    "lst"
   ]
  },
  {
   "cell_type": "markdown",
   "metadata": {},
   "source": [
    "# 데이터란?"
   ]
  },
  {
   "cell_type": "markdown",
   "metadata": {},
   "source": [
    "0. 데이터의 정의\n",
    "  - 데이터(Data)란 현실 세계에서 관찰되거나 측정된 사실, 개념, 명령 등의 값을 의미합니다.\n",
    "  - DIKW 피라미드\n",
    "    - 데이터(Data) → 정보(Information) → 지식(Knowledge) → 지혜(Wisdom)\n",
    "      - **데이터(Data)**는 단순한 사실의 나열이지만\n",
    "      - 이를 해석하면 **정보(Information)**가 되고\n",
    "      - 축적·체계화되면 **지식(Knowledge)**\n",
    "      - 더 나아가 상황에 적절히 활용할 수 있으면 **지혜(Wisdom)**로 발전\n",
    "    - 데이터 기반 의사결정?\n",
    "      - 경험이 많은 사람 = 지식과 지혜가 많이 축적\n",
    "      - but, 시간이 지나면서, 데이터가 바뀜\n",
    "        - 새로운 데이터와, 나의 지식과 지혜가 불일치.\n",
    "\n",
    "---\n",
    "\n",
    "## 1. 일상(업무)에서 겪는 문제\n",
    "- **Why? 분석이 안되는가?**\n",
    "- 엑셀로 데이터를 분석하는 방법\n",
    "  1. **VLOOKUP**  \n",
    "     - 두 테이블의 연결 → 새로운 정보 생산\n",
    "  2. **Pivot**  \n",
    "     - 데이터의 집계 (**그룹**별, 합, 평균)\n",
    "- 올바른 형태로 데이터를 만드는 방법 (**DB 정규화**)\n",
    "  1. 크로스탭 쿼리를 정규화하는 간단한 예시\n",
    "\n",
    "---\n",
    "\n",
    "## 2. 엑셀에서 파이썬으로 넘어가기, Why?\n",
    "- 대량의 데이터 (**빅데이터**) 처리\n",
    "- 여러 테이블의 연계\n",
    "- 고급 분석 (예: **A/B Test**)\n",
    "- 예측 모델링 (**Machine Learning**)"
   ]
  },
  {
   "cell_type": "markdown",
   "metadata": {},
   "source": [
    "## 라이브러리"
   ]
  },
  {
   "cell_type": "code",
   "execution_count": 31,
   "metadata": {},
   "outputs": [],
   "source": [
    "# 라이브러리 불러오기\n",
    "import pandas as pd\n",
    "import numpy as np"
   ]
  },
  {
   "cell_type": "code",
   "execution_count": 38,
   "metadata": {},
   "outputs": [],
   "source": [
    "# 마음대로 as(알리아스) 지정한 케이스\n",
    "# 일단 작동은 하는데... 코드 재사용성에 문제가 생깁니다.\n",
    "import pandas as 나는내맘대로할래"
   ]
  },
  {
   "cell_type": "markdown",
   "metadata": {},
   "source": [
    "### 데이터프레임"
   ]
  },
  {
   "cell_type": "code",
   "execution_count": 39,
   "metadata": {},
   "outputs": [],
   "source": [
    "# 데이터 불러오기\n",
    "df = pd.read_csv('./data/매출데이터.csv', encoding='utf-8')  # encoding='cp949' "
   ]
  },
  {
   "cell_type": "code",
   "execution_count": 42,
   "metadata": {},
   "outputs": [],
   "source": [
    "# 나는내맘대로할래.read_csv('./data/매출데이터.csv', encoding='utf-8')  # 이렇게도 됩니다..."
   ]
  },
  {
   "cell_type": "code",
   "execution_count": 43,
   "metadata": {},
   "outputs": [
    {
     "data": {
      "text/html": [
       "<div>\n",
       "<style scoped>\n",
       "    .dataframe tbody tr th:only-of-type {\n",
       "        vertical-align: middle;\n",
       "    }\n",
       "\n",
       "    .dataframe tbody tr th {\n",
       "        vertical-align: top;\n",
       "    }\n",
       "\n",
       "    .dataframe thead th {\n",
       "        text-align: right;\n",
       "    }\n",
       "</style>\n",
       "<table border=\"1\" class=\"dataframe\">\n",
       "  <thead>\n",
       "    <tr style=\"text-align: right;\">\n",
       "      <th></th>\n",
       "      <th>거래일자</th>\n",
       "      <th>매장명</th>\n",
       "      <th>상품코드</th>\n",
       "      <th>상품명</th>\n",
       "      <th>고객ID</th>\n",
       "      <th>성별</th>\n",
       "      <th>연령대</th>\n",
       "      <th>결제수단</th>\n",
       "      <th>수량</th>\n",
       "      <th>단가</th>\n",
       "      <th>할인율</th>\n",
       "      <th>매출액</th>\n",
       "      <th>마진율</th>\n",
       "      <th>마진액</th>\n",
       "    </tr>\n",
       "  </thead>\n",
       "  <tbody>\n",
       "    <tr>\n",
       "      <th>0</th>\n",
       "      <td>2024-03-03</td>\n",
       "      <td>명동점</td>\n",
       "      <td>P1009</td>\n",
       "      <td>유기농 당근</td>\n",
       "      <td>C5447</td>\n",
       "      <td>여</td>\n",
       "      <td>60대</td>\n",
       "      <td>현금</td>\n",
       "      <td>3.0</td>\n",
       "      <td>1800</td>\n",
       "      <td>0.00</td>\n",
       "      <td>5400.0</td>\n",
       "      <td>0.28</td>\n",
       "      <td>1512.0</td>\n",
       "    </tr>\n",
       "    <tr>\n",
       "      <th>1</th>\n",
       "      <td>2024-03-04</td>\n",
       "      <td>홍대점</td>\n",
       "      <td>P1005</td>\n",
       "      <td>닭가슴살팩</td>\n",
       "      <td>C9831</td>\n",
       "      <td>여</td>\n",
       "      <td>20대</td>\n",
       "      <td>모바일페이</td>\n",
       "      <td>3.0</td>\n",
       "      <td>4000</td>\n",
       "      <td>0.10</td>\n",
       "      <td>10800.0</td>\n",
       "      <td>0.32</td>\n",
       "      <td>3456.0</td>\n",
       "    </tr>\n",
       "    <tr>\n",
       "      <th>2</th>\n",
       "      <td>2024-03-07</td>\n",
       "      <td>강남점</td>\n",
       "      <td>P1006</td>\n",
       "      <td>블루베리</td>\n",
       "      <td>C3202</td>\n",
       "      <td>여</td>\n",
       "      <td>50대</td>\n",
       "      <td>모바일페이</td>\n",
       "      <td>4.0</td>\n",
       "      <td>5000</td>\n",
       "      <td>0.15</td>\n",
       "      <td>17000.0</td>\n",
       "      <td>0.40</td>\n",
       "      <td>6800.0</td>\n",
       "    </tr>\n",
       "    <tr>\n",
       "      <th>3</th>\n",
       "      <td>2024-03-11</td>\n",
       "      <td>명동점</td>\n",
       "      <td>P1003</td>\n",
       "      <td>저지방 우유</td>\n",
       "      <td>C1239</td>\n",
       "      <td>여</td>\n",
       "      <td>50대</td>\n",
       "      <td>현금</td>\n",
       "      <td>5.0</td>\n",
       "      <td>2200</td>\n",
       "      <td>0.10</td>\n",
       "      <td>9900.0</td>\n",
       "      <td>0.25</td>\n",
       "      <td>2475.0</td>\n",
       "    </tr>\n",
       "    <tr>\n",
       "      <th>4</th>\n",
       "      <td>2024-03-11</td>\n",
       "      <td>강남점</td>\n",
       "      <td>P1007</td>\n",
       "      <td>그릭요거트</td>\n",
       "      <td>C9368</td>\n",
       "      <td>남</td>\n",
       "      <td>50대</td>\n",
       "      <td>모바일페이</td>\n",
       "      <td>2.0</td>\n",
       "      <td>3800</td>\n",
       "      <td>0.10</td>\n",
       "      <td>6840.0</td>\n",
       "      <td>0.33</td>\n",
       "      <td>2257.2</td>\n",
       "    </tr>\n",
       "    <tr>\n",
       "      <th>...</th>\n",
       "      <td>...</td>\n",
       "      <td>...</td>\n",
       "      <td>...</td>\n",
       "      <td>...</td>\n",
       "      <td>...</td>\n",
       "      <td>...</td>\n",
       "      <td>...</td>\n",
       "      <td>...</td>\n",
       "      <td>...</td>\n",
       "      <td>...</td>\n",
       "      <td>...</td>\n",
       "      <td>...</td>\n",
       "      <td>...</td>\n",
       "      <td>...</td>\n",
       "    </tr>\n",
       "    <tr>\n",
       "      <th>195</th>\n",
       "      <td>2025-02-25</td>\n",
       "      <td>명동점</td>\n",
       "      <td>P1007</td>\n",
       "      <td>그릭요거트</td>\n",
       "      <td>C1896</td>\n",
       "      <td>남</td>\n",
       "      <td>40대</td>\n",
       "      <td>모바일페이</td>\n",
       "      <td>4.0</td>\n",
       "      <td>3800</td>\n",
       "      <td>0.05</td>\n",
       "      <td>14440.0</td>\n",
       "      <td>0.33</td>\n",
       "      <td>4765.2</td>\n",
       "    </tr>\n",
       "    <tr>\n",
       "      <th>196</th>\n",
       "      <td>2025-02-26</td>\n",
       "      <td>강남점</td>\n",
       "      <td>P1004</td>\n",
       "      <td>통밀 식빵</td>\n",
       "      <td>C8696</td>\n",
       "      <td>남</td>\n",
       "      <td>50대</td>\n",
       "      <td>카드</td>\n",
       "      <td>4.0</td>\n",
       "      <td>3500</td>\n",
       "      <td>0.00</td>\n",
       "      <td>14000.0</td>\n",
       "      <td>0.28</td>\n",
       "      <td>3920.0</td>\n",
       "    </tr>\n",
       "    <tr>\n",
       "      <th>197</th>\n",
       "      <td>2025-02-27</td>\n",
       "      <td>명동점</td>\n",
       "      <td>P1003</td>\n",
       "      <td>저지방 우유</td>\n",
       "      <td>C2047</td>\n",
       "      <td>남</td>\n",
       "      <td>20대</td>\n",
       "      <td>모바일페이</td>\n",
       "      <td>2.0</td>\n",
       "      <td>2200</td>\n",
       "      <td>0.00</td>\n",
       "      <td>4400.0</td>\n",
       "      <td>0.25</td>\n",
       "      <td>1100.0</td>\n",
       "    </tr>\n",
       "    <tr>\n",
       "      <th>198</th>\n",
       "      <td>2025-02-28</td>\n",
       "      <td>홍대점</td>\n",
       "      <td>P1008</td>\n",
       "      <td>오트밀</td>\n",
       "      <td>C8563</td>\n",
       "      <td>여</td>\n",
       "      <td>60대</td>\n",
       "      <td>모바일페이</td>\n",
       "      <td>3.0</td>\n",
       "      <td>3200</td>\n",
       "      <td>0.05</td>\n",
       "      <td>9120.0</td>\n",
       "      <td>0.30</td>\n",
       "      <td>2736.0</td>\n",
       "    </tr>\n",
       "    <tr>\n",
       "      <th>199</th>\n",
       "      <td>2025-02-28</td>\n",
       "      <td>명동점</td>\n",
       "      <td>P1003</td>\n",
       "      <td>저지방 우유</td>\n",
       "      <td>C6486</td>\n",
       "      <td>여</td>\n",
       "      <td>20대</td>\n",
       "      <td>카드</td>\n",
       "      <td>3.0</td>\n",
       "      <td>2200</td>\n",
       "      <td>0.15</td>\n",
       "      <td>5610.0</td>\n",
       "      <td>0.25</td>\n",
       "      <td>1402.5</td>\n",
       "    </tr>\n",
       "  </tbody>\n",
       "</table>\n",
       "<p>200 rows × 14 columns</p>\n",
       "</div>"
      ],
      "text/plain": [
       "           거래일자  매장명   상품코드     상품명   고객ID 성별  연령대   결제수단   수량    단가   할인율  \\\n",
       "0    2024-03-03  명동점  P1009  유기농 당근  C5447  여  60대     현금  3.0  1800  0.00   \n",
       "1    2024-03-04  홍대점  P1005   닭가슴살팩  C9831  여  20대  모바일페이  3.0  4000  0.10   \n",
       "2    2024-03-07  강남점  P1006    블루베리  C3202  여  50대  모바일페이  4.0  5000  0.15   \n",
       "3    2024-03-11  명동점  P1003  저지방 우유  C1239  여  50대     현금  5.0  2200  0.10   \n",
       "4    2024-03-11  강남점  P1007   그릭요거트  C9368  남  50대  모바일페이  2.0  3800  0.10   \n",
       "..          ...  ...    ...     ...    ... ..  ...    ...  ...   ...   ...   \n",
       "195  2025-02-25  명동점  P1007   그릭요거트  C1896  남  40대  모바일페이  4.0  3800  0.05   \n",
       "196  2025-02-26  강남점  P1004   통밀 식빵  C8696  남  50대     카드  4.0  3500  0.00   \n",
       "197  2025-02-27  명동점  P1003  저지방 우유  C2047  남  20대  모바일페이  2.0  2200  0.00   \n",
       "198  2025-02-28  홍대점  P1008     오트밀  C8563  여  60대  모바일페이  3.0  3200  0.05   \n",
       "199  2025-02-28  명동점  P1003  저지방 우유  C6486  여  20대     카드  3.0  2200  0.15   \n",
       "\n",
       "         매출액   마진율     마진액  \n",
       "0     5400.0  0.28  1512.0  \n",
       "1    10800.0  0.32  3456.0  \n",
       "2    17000.0  0.40  6800.0  \n",
       "3     9900.0  0.25  2475.0  \n",
       "4     6840.0  0.33  2257.2  \n",
       "..       ...   ...     ...  \n",
       "195  14440.0  0.33  4765.2  \n",
       "196  14000.0  0.28  3920.0  \n",
       "197   4400.0  0.25  1100.0  \n",
       "198   9120.0  0.30  2736.0  \n",
       "199   5610.0  0.25  1402.5  \n",
       "\n",
       "[200 rows x 14 columns]"
      ]
     },
     "execution_count": 43,
     "metadata": {},
     "output_type": "execute_result"
    }
   ],
   "source": [
    "# 불러온 데이터 내용 확인 - gpt로 만든 데이터입니다.\n",
    "df"
   ]
  },
  {
   "cell_type": "code",
   "execution_count": null,
   "metadata": {},
   "outputs": [
    {
     "name": "stdout",
     "output_type": "stream",
     "text": [
      "<class 'int'>\n",
      "<class 'pandas.core.frame.DataFrame'>\n"
     ]
    }
   ],
   "source": [
    "a=1\n",
    "print(type(a))\n",
    "print(type(df))\n",
    "# "
   ]
  },
  {
   "cell_type": "markdown",
   "metadata": {},
   "source": [
    "### df의 기본 함수(메서드)\n",
    "* df라는 형식을 위해서 판다스에는 다양한 df용 함수들이 있습니다."
   ]
  },
  {
   "cell_type": "markdown",
   "metadata": {},
   "source": [
    "#### df 구조 확인\n",
    "| 메서드와 속성         | 설명                              |\n",
    "|----------------|-----------------------------------|\n",
    "| df.head(n)     | 앞에서 n행 확인 (기본값 5)        |\n",
    "| df.tail(n)     | 뒤에서 n행 확인                   |\n",
    "| df.info()      | 전체 구조 및 결측값 요약          |\n",
    "| df.describe()  | 수치형 열의 통계 요약              |\n",
    "| df.shape       | (행, 열) 튜플 반환                 |\n",
    "| df.columns     | 열 이름 확인                       |\n",
    "| df.index       | 인덱스 확인                        |\n",
    "| df.dtypes      | 열별 데이터 타입                   |"
   ]
  },
  {
   "cell_type": "markdown",
   "metadata": {},
   "source": [
    "#### head 등\n",
    "* head, tail, sample 함수는 df의 실제 데이터 일부를 확인하는 함수입니다.\n",
    "* 빅데이터는 정말 크므로(몇백만~몇천만 혹은 그 이상, 실시간 업데이트 등) 엑셀 등 파일로 저장된 형태가 아닌 경우가 많습니다.\n",
    "* 일부 데이터를 확인하여 데이터가 의도대로 잘 불러와졌는지 확인하는 기능입니다. "
   ]
  },
  {
   "cell_type": "code",
   "execution_count": 45,
   "metadata": {},
   "outputs": [
    {
     "data": {
      "text/html": [
       "<div>\n",
       "<style scoped>\n",
       "    .dataframe tbody tr th:only-of-type {\n",
       "        vertical-align: middle;\n",
       "    }\n",
       "\n",
       "    .dataframe tbody tr th {\n",
       "        vertical-align: top;\n",
       "    }\n",
       "\n",
       "    .dataframe thead th {\n",
       "        text-align: right;\n",
       "    }\n",
       "</style>\n",
       "<table border=\"1\" class=\"dataframe\">\n",
       "  <thead>\n",
       "    <tr style=\"text-align: right;\">\n",
       "      <th></th>\n",
       "      <th>거래일자</th>\n",
       "      <th>매장명</th>\n",
       "      <th>상품코드</th>\n",
       "      <th>상품명</th>\n",
       "      <th>고객ID</th>\n",
       "      <th>성별</th>\n",
       "      <th>연령대</th>\n",
       "      <th>결제수단</th>\n",
       "      <th>수량</th>\n",
       "      <th>단가</th>\n",
       "      <th>할인율</th>\n",
       "      <th>매출액</th>\n",
       "      <th>마진율</th>\n",
       "      <th>마진액</th>\n",
       "    </tr>\n",
       "  </thead>\n",
       "  <tbody>\n",
       "    <tr>\n",
       "      <th>0</th>\n",
       "      <td>2024-03-03</td>\n",
       "      <td>명동점</td>\n",
       "      <td>P1009</td>\n",
       "      <td>유기농 당근</td>\n",
       "      <td>C5447</td>\n",
       "      <td>여</td>\n",
       "      <td>60대</td>\n",
       "      <td>현금</td>\n",
       "      <td>3.0</td>\n",
       "      <td>1800</td>\n",
       "      <td>0.00</td>\n",
       "      <td>5400.0</td>\n",
       "      <td>0.28</td>\n",
       "      <td>1512.0</td>\n",
       "    </tr>\n",
       "    <tr>\n",
       "      <th>1</th>\n",
       "      <td>2024-03-04</td>\n",
       "      <td>홍대점</td>\n",
       "      <td>P1005</td>\n",
       "      <td>닭가슴살팩</td>\n",
       "      <td>C9831</td>\n",
       "      <td>여</td>\n",
       "      <td>20대</td>\n",
       "      <td>모바일페이</td>\n",
       "      <td>3.0</td>\n",
       "      <td>4000</td>\n",
       "      <td>0.10</td>\n",
       "      <td>10800.0</td>\n",
       "      <td>0.32</td>\n",
       "      <td>3456.0</td>\n",
       "    </tr>\n",
       "    <tr>\n",
       "      <th>2</th>\n",
       "      <td>2024-03-07</td>\n",
       "      <td>강남점</td>\n",
       "      <td>P1006</td>\n",
       "      <td>블루베리</td>\n",
       "      <td>C3202</td>\n",
       "      <td>여</td>\n",
       "      <td>50대</td>\n",
       "      <td>모바일페이</td>\n",
       "      <td>4.0</td>\n",
       "      <td>5000</td>\n",
       "      <td>0.15</td>\n",
       "      <td>17000.0</td>\n",
       "      <td>0.40</td>\n",
       "      <td>6800.0</td>\n",
       "    </tr>\n",
       "    <tr>\n",
       "      <th>3</th>\n",
       "      <td>2024-03-11</td>\n",
       "      <td>명동점</td>\n",
       "      <td>P1003</td>\n",
       "      <td>저지방 우유</td>\n",
       "      <td>C1239</td>\n",
       "      <td>여</td>\n",
       "      <td>50대</td>\n",
       "      <td>현금</td>\n",
       "      <td>5.0</td>\n",
       "      <td>2200</td>\n",
       "      <td>0.10</td>\n",
       "      <td>9900.0</td>\n",
       "      <td>0.25</td>\n",
       "      <td>2475.0</td>\n",
       "    </tr>\n",
       "    <tr>\n",
       "      <th>4</th>\n",
       "      <td>2024-03-11</td>\n",
       "      <td>강남점</td>\n",
       "      <td>P1007</td>\n",
       "      <td>그릭요거트</td>\n",
       "      <td>C9368</td>\n",
       "      <td>남</td>\n",
       "      <td>50대</td>\n",
       "      <td>모바일페이</td>\n",
       "      <td>2.0</td>\n",
       "      <td>3800</td>\n",
       "      <td>0.10</td>\n",
       "      <td>6840.0</td>\n",
       "      <td>0.33</td>\n",
       "      <td>2257.2</td>\n",
       "    </tr>\n",
       "  </tbody>\n",
       "</table>\n",
       "</div>"
      ],
      "text/plain": [
       "         거래일자  매장명   상품코드     상품명   고객ID 성별  연령대   결제수단   수량    단가   할인율  \\\n",
       "0  2024-03-03  명동점  P1009  유기농 당근  C5447  여  60대     현금  3.0  1800  0.00   \n",
       "1  2024-03-04  홍대점  P1005   닭가슴살팩  C9831  여  20대  모바일페이  3.0  4000  0.10   \n",
       "2  2024-03-07  강남점  P1006    블루베리  C3202  여  50대  모바일페이  4.0  5000  0.15   \n",
       "3  2024-03-11  명동점  P1003  저지방 우유  C1239  여  50대     현금  5.0  2200  0.10   \n",
       "4  2024-03-11  강남점  P1007   그릭요거트  C9368  남  50대  모바일페이  2.0  3800  0.10   \n",
       "\n",
       "       매출액   마진율     마진액  \n",
       "0   5400.0  0.28  1512.0  \n",
       "1  10800.0  0.32  3456.0  \n",
       "2  17000.0  0.40  6800.0  \n",
       "3   9900.0  0.25  2475.0  \n",
       "4   6840.0  0.33  2257.2  "
      ]
     },
     "execution_count": 45,
     "metadata": {},
     "output_type": "execute_result"
    }
   ],
   "source": [
    "df.head()"
   ]
  },
  {
   "cell_type": "code",
   "execution_count": 46,
   "metadata": {},
   "outputs": [
    {
     "name": "stdout",
     "output_type": "stream",
     "text": [
      "<class 'pandas.core.frame.DataFrame'>\n",
      "RangeIndex: 200 entries, 0 to 199\n",
      "Data columns (total 14 columns):\n",
      " #   Column  Non-Null Count  Dtype  \n",
      "---  ------  --------------  -----  \n",
      " 0   거래일자    200 non-null    object \n",
      " 1   매장명     200 non-null    object \n",
      " 2   상품코드    200 non-null    object \n",
      " 3   상품명     200 non-null    object \n",
      " 4   고객ID    198 non-null    object \n",
      " 5   성별      200 non-null    object \n",
      " 6   연령대     198 non-null    object \n",
      " 7   결제수단    200 non-null    object \n",
      " 8   수량      198 non-null    float64\n",
      " 9   단가      200 non-null    int64  \n",
      " 10  할인율     198 non-null    float64\n",
      " 11  매출액     196 non-null    float64\n",
      " 12  마진율     200 non-null    float64\n",
      " 13  마진액     196 non-null    float64\n",
      "dtypes: float64(5), int64(1), object(8)\n",
      "memory usage: 22.0+ KB\n"
     ]
    }
   ],
   "source": [
    "df.info()"
   ]
  },
  {
   "cell_type": "code",
   "execution_count": 48,
   "metadata": {},
   "outputs": [
    {
     "data": {
      "text/plain": [
       "(200, 14)"
      ]
     },
     "execution_count": 48,
     "metadata": {},
     "output_type": "execute_result"
    }
   ],
   "source": [
    "df.shape   # (행의 수, 열의 수) 형태의 튜플을 반환"
   ]
  },
  {
   "cell_type": "markdown",
   "metadata": {},
   "source": [
    "#### describe()\n",
    "* describe는 df의 수치형 자료에 대해 기본적인 통계량을 알려줍니다.\n",
    "* 평균, 최대 최소값 등"
   ]
  },
  {
   "cell_type": "code",
   "execution_count": 68,
   "metadata": {},
   "outputs": [
    {
     "data": {
      "text/html": [
       "<div>\n",
       "<style scoped>\n",
       "    .dataframe tbody tr th:only-of-type {\n",
       "        vertical-align: middle;\n",
       "    }\n",
       "\n",
       "    .dataframe tbody tr th {\n",
       "        vertical-align: top;\n",
       "    }\n",
       "\n",
       "    .dataframe thead th {\n",
       "        text-align: right;\n",
       "    }\n",
       "</style>\n",
       "<table border=\"1\" class=\"dataframe\">\n",
       "  <thead>\n",
       "    <tr style=\"text-align: right;\">\n",
       "      <th></th>\n",
       "      <th>수량</th>\n",
       "      <th>단가</th>\n",
       "      <th>할인율</th>\n",
       "      <th>매출액</th>\n",
       "      <th>마진율</th>\n",
       "      <th>마진액</th>\n",
       "    </tr>\n",
       "  </thead>\n",
       "  <tbody>\n",
       "    <tr>\n",
       "      <th>count</th>\n",
       "      <td>198.00</td>\n",
       "      <td>200.00</td>\n",
       "      <td>198.00</td>\n",
       "      <td>196.00</td>\n",
       "      <td>200.00</td>\n",
       "      <td>196.00</td>\n",
       "    </tr>\n",
       "    <tr>\n",
       "      <th>mean</th>\n",
       "      <td>3.03</td>\n",
       "      <td>3128.00</td>\n",
       "      <td>0.08</td>\n",
       "      <td>8721.02</td>\n",
       "      <td>0.31</td>\n",
       "      <td>2814.60</td>\n",
       "    </tr>\n",
       "    <tr>\n",
       "      <th>std</th>\n",
       "      <td>1.39</td>\n",
       "      <td>963.67</td>\n",
       "      <td>0.06</td>\n",
       "      <td>5107.61</td>\n",
       "      <td>0.04</td>\n",
       "      <td>1899.87</td>\n",
       "    </tr>\n",
       "    <tr>\n",
       "      <th>min</th>\n",
       "      <td>1.00</td>\n",
       "      <td>1800.00</td>\n",
       "      <td>0.00</td>\n",
       "      <td>1530.00</td>\n",
       "      <td>0.25</td>\n",
       "      <td>428.40</td>\n",
       "    </tr>\n",
       "    <tr>\n",
       "      <th>25%</th>\n",
       "      <td>2.00</td>\n",
       "      <td>2200.00</td>\n",
       "      <td>0.05</td>\n",
       "      <td>4475.00</td>\n",
       "      <td>0.28</td>\n",
       "      <td>1333.80</td>\n",
       "    </tr>\n",
       "    <tr>\n",
       "      <th>50%</th>\n",
       "      <td>3.00</td>\n",
       "      <td>3200.00</td>\n",
       "      <td>0.10</td>\n",
       "      <td>7785.00</td>\n",
       "      <td>0.30</td>\n",
       "      <td>2302.75</td>\n",
       "    </tr>\n",
       "    <tr>\n",
       "      <th>75%</th>\n",
       "      <td>4.00</td>\n",
       "      <td>3800.00</td>\n",
       "      <td>0.15</td>\n",
       "      <td>12307.50</td>\n",
       "      <td>0.33</td>\n",
       "      <td>3840.00</td>\n",
       "    </tr>\n",
       "    <tr>\n",
       "      <th>max</th>\n",
       "      <td>5.00</td>\n",
       "      <td>5000.00</td>\n",
       "      <td>0.15</td>\n",
       "      <td>23750.00</td>\n",
       "      <td>0.40</td>\n",
       "      <td>9500.00</td>\n",
       "    </tr>\n",
       "  </tbody>\n",
       "</table>\n",
       "</div>"
      ],
      "text/plain": [
       "           수량       단가     할인율       매출액     마진율      마진액\n",
       "count  198.00   200.00  198.00    196.00  200.00   196.00\n",
       "mean     3.03  3128.00    0.08   8721.02    0.31  2814.60\n",
       "std      1.39   963.67    0.06   5107.61    0.04  1899.87\n",
       "min      1.00  1800.00    0.00   1530.00    0.25   428.40\n",
       "25%      2.00  2200.00    0.05   4475.00    0.28  1333.80\n",
       "50%      3.00  3200.00    0.10   7785.00    0.30  2302.75\n",
       "75%      4.00  3800.00    0.15  12307.50    0.33  3840.00\n",
       "max      5.00  5000.00    0.15  23750.00    0.40  9500.00"
      ]
     },
     "execution_count": 68,
     "metadata": {},
     "output_type": "execute_result"
    }
   ],
   "source": [
    "df.describe().round(2)"
   ]
  },
  {
   "cell_type": "markdown",
   "metadata": {},
   "source": [
    "* count : 결측을 제외한 데이터 갯수입니다.\n",
    "* mean : 평균값\n",
    "* std : 표준편차\n",
    "* min, max : 최소 최대\n",
    "* 25, 50, 75% : IQR이라고 하여, 분위수를 말합니다. 전체 분포에서 25%, 50%, 75% 순위에 있는 값입니다.\n",
    "  * 분위수랑? 데이터를 작은 값부터 정렬했을 때, 순서대로 일정 비율에 해당하는 값.\n",
    "  * 50% 가 평균 mean과 다른 이유\n",
    "    * mean은 전체를 더한 후 나눈 값으로 가상의 값입니다.\n",
    "    * 50% 는 중위수로, 200개의 값 중 100번쨰 값(중앙값)을 의미합니다.\n",
    "      * (데이터 갯수가 짝수이므로, 정확하게는 100번째와 101번쨰의 평균입니다.)\n",
    "    * 따라서 평균과 중위수가 다릅니다."
   ]
  },
  {
   "cell_type": "code",
   "execution_count": null,
   "metadata": {},
   "outputs": [
    {
     "data": {
      "text/html": [
       "<div>\n",
       "<style scoped>\n",
       "    .dataframe tbody tr th:only-of-type {\n",
       "        vertical-align: middle;\n",
       "    }\n",
       "\n",
       "    .dataframe tbody tr th {\n",
       "        vertical-align: top;\n",
       "    }\n",
       "\n",
       "    .dataframe thead th {\n",
       "        text-align: right;\n",
       "    }\n",
       "</style>\n",
       "<table border=\"1\" class=\"dataframe\">\n",
       "  <thead>\n",
       "    <tr style=\"text-align: right;\">\n",
       "      <th></th>\n",
       "      <th>매장명</th>\n",
       "      <th>상품코드</th>\n",
       "      <th>상품명</th>\n",
       "      <th>성별</th>\n",
       "      <th>연령대</th>\n",
       "      <th>결제수단</th>\n",
       "    </tr>\n",
       "  </thead>\n",
       "  <tbody>\n",
       "    <tr>\n",
       "      <th>count</th>\n",
       "      <td>200</td>\n",
       "      <td>200</td>\n",
       "      <td>200</td>\n",
       "      <td>200</td>\n",
       "      <td>198</td>\n",
       "      <td>200</td>\n",
       "    </tr>\n",
       "    <tr>\n",
       "      <th>unique</th>\n",
       "      <td>4</td>\n",
       "      <td>9</td>\n",
       "      <td>9</td>\n",
       "      <td>2</td>\n",
       "      <td>5</td>\n",
       "      <td>3</td>\n",
       "    </tr>\n",
       "    <tr>\n",
       "      <th>top</th>\n",
       "      <td>홍대점</td>\n",
       "      <td>P1009</td>\n",
       "      <td>유기농 당근</td>\n",
       "      <td>여</td>\n",
       "      <td>40대</td>\n",
       "      <td>모바일페이</td>\n",
       "    </tr>\n",
       "    <tr>\n",
       "      <th>freq</th>\n",
       "      <td>61</td>\n",
       "      <td>33</td>\n",
       "      <td>33</td>\n",
       "      <td>105</td>\n",
       "      <td>49</td>\n",
       "      <td>70</td>\n",
       "    </tr>\n",
       "  </tbody>\n",
       "</table>\n",
       "</div>"
      ],
      "text/plain": [
       "        매장명   상품코드     상품명   성별  연령대   결제수단\n",
       "count   200    200     200  200  198    200\n",
       "unique    4      9       9    2    5      3\n",
       "top     홍대점  P1009  유기농 당근    여  40대  모바일페이\n",
       "freq     61     33      33  105   49     70"
      ]
     },
     "execution_count": 59,
     "metadata": {},
     "output_type": "execute_result"
    }
   ],
   "source": [
    "df = df.astype({'성별': 'category', '연령대': 'category', '결제수단': 'category', '상품코드': 'category', '상품명': 'category', '매장명': 'category'})\n",
    "df.describe(include='category')  # 범주형 데이터 요약"
   ]
  },
  {
   "cell_type": "markdown",
   "metadata": {},
   "source": [
    "##### 데이터의 구분\n",
    "[위키독스 01. 데이터 타입 참고](https://wikidocs.net/161040)\n",
    " * 데이터는 크게 다음과 같이 나눕니다.\n",
    "   * 텍스트 - 문장, 단어로 된 데이터\n",
    "   * 날짜 - yyyy-mm-dd로 된 형태의 데이터\n",
    "   * 범주 - 종류를 나눌 수 있는 데이터\n",
    "     * 명목형 - 순서가 없음 (성별, 매장명, 상품코드 등)\n",
    "     * 순서형 - 순서가 있음 (연령대)\n",
    "   * 숫자\n",
    "     * 이산형(정수형) - 판매량 등 (1개 2개 3개, 소수가 불가능)\n",
    "     * 연속형 - 할인율 등 (0.1, 0.25 등 소수가 가능)"
   ]
  },
  {
   "cell_type": "markdown",
   "metadata": {},
   "source": [
    "##### 범주형 데이터의 표현\n",
    "* 범주형 데이터는 보통 코드로 나타냅니다.\n",
    "  * 연령대가 10대, 20대 30대 40대 라면 (범주형이고, 연속형(순서가 있음))\n",
    "    * 분석할 때 데이터는 1,2,3,4와 같이 숫자로 변환하곤 합니다.\n",
    "* 특별히 성별과 같이 2 종류만 있는 범주형 데이터는 True(1) / False(0) 로 표현 가능\n",
    "  * 이를 바이너리 코드 라고 하며, 0,1 만으로 충분히 표현 가능한 데이터를 말합니다.\n",
    "  * 남성 -> 0, 여성 -> 1 같이 표현할 수 있습니다. \n",
    "\n",
    "| 구분       | 설명                           | 예시            |\n",
    "|------------|--------------------------------|-----------------|\n",
    "| 명목형     | 순서 없음                      | 성별, 지역, 색상 |\n",
    "| 순서형     | 순서 있음                      | 학점(A,B,C), 연령대 |\n",
    "| 이산형     | 정수형 숫자, 개수 셀 수 있음   | 수량, 판매건수   |\n",
    "| 연속형     | 실수 포함, 무한히 쪼갤 수 있음 | 키, 할인율, 금액 |\n"
   ]
  },
  {
   "cell_type": "markdown",
   "metadata": {},
   "source": [
    "## 데이터 필터링\n",
    "원하는 데이터만을 추출하여 보는 방법입니다.\n",
    "엑셀의 필터 기능과 유사합니다.\n",
    "여러 방법이 있으나 다음 두 가지 방법이 기본입니다.\n",
    "* df.iloc[n,m]  : n은 행, m은 열\n",
    "* df.loc[]\n",
    "\n",
    "| 항목        | .iloc                      | .loc                                 |\n",
    "|-------------|----------------------------|--------------------------------------|\n",
    "| 기준        | 인덱스 번호 (숫자) 기반     | 인덱스 이름 및 컬럼 이름 기반         |\n",
    "| 사용 형태   | `df.iloc[행, 열]`          | `df.loc[행이름, 컬럼이름]`           |\n",
    "| 예시        | `df.iloc[0, 2]`            | `df.loc[0, '상품명']`                |\n",
    "| 장점        | 빠르고 직관적임             | 컬럼명을 사용하므로 가독성이 높음      |\n"
   ]
  },
  {
   "cell_type": "markdown",
   "metadata": {},
   "source": [
    "### df.iloc 방식의 필터링\n",
    "* iloc는 행과 열 숫자를 기반으로 값을 호출하는 함수입니다.\n",
    "* df.iloc[n,m] 과 같이 특정 위치의 값을 호출하거나,\n",
    "* ``` df.iloc[n_start:n_end:n_step,m_start:m_end:m_step]``` 같이 n0\\~9 와 m~9범위의 값을 호출할 수도 있습니다.\n"
   ]
  },
  {
   "cell_type": "code",
   "execution_count": 73,
   "metadata": {},
   "outputs": [
    {
     "data": {
      "text/plain": [
       "거래일자    2024-03-03\n",
       "매장명            명동점\n",
       "상품코드         P1009\n",
       "상품명         유기농 당근\n",
       "고객ID         C5447\n",
       "성별               여\n",
       "연령대            60대\n",
       "결제수단            현금\n",
       "수량             3.0\n",
       "단가            1800\n",
       "할인율            0.0\n",
       "매출액         5400.0\n",
       "마진율           0.28\n",
       "마진액         1512.0\n",
       "Name: 0, dtype: object"
      ]
     },
     "execution_count": 73,
     "metadata": {},
     "output_type": "execute_result"
    }
   ],
   "source": [
    "df.iloc[0]   # 0번 인덱스 값 가져오기 # series 형태로 출력됨, 1,2,3,4... 도 해보세요"
   ]
  },
  {
   "cell_type": "code",
   "execution_count": 74,
   "metadata": {},
   "outputs": [
    {
     "data": {
      "text/html": [
       "<div>\n",
       "<style scoped>\n",
       "    .dataframe tbody tr th:only-of-type {\n",
       "        vertical-align: middle;\n",
       "    }\n",
       "\n",
       "    .dataframe tbody tr th {\n",
       "        vertical-align: top;\n",
       "    }\n",
       "\n",
       "    .dataframe thead th {\n",
       "        text-align: right;\n",
       "    }\n",
       "</style>\n",
       "<table border=\"1\" class=\"dataframe\">\n",
       "  <thead>\n",
       "    <tr style=\"text-align: right;\">\n",
       "      <th></th>\n",
       "      <th>거래일자</th>\n",
       "      <th>매장명</th>\n",
       "      <th>상품코드</th>\n",
       "      <th>상품명</th>\n",
       "      <th>고객ID</th>\n",
       "    </tr>\n",
       "  </thead>\n",
       "  <tbody>\n",
       "    <tr>\n",
       "      <th>0</th>\n",
       "      <td>2024-03-03</td>\n",
       "      <td>명동점</td>\n",
       "      <td>P1009</td>\n",
       "      <td>유기농 당근</td>\n",
       "      <td>C5447</td>\n",
       "    </tr>\n",
       "    <tr>\n",
       "      <th>1</th>\n",
       "      <td>2024-03-04</td>\n",
       "      <td>홍대점</td>\n",
       "      <td>P1005</td>\n",
       "      <td>닭가슴살팩</td>\n",
       "      <td>C9831</td>\n",
       "    </tr>\n",
       "    <tr>\n",
       "      <th>2</th>\n",
       "      <td>2024-03-07</td>\n",
       "      <td>강남점</td>\n",
       "      <td>P1006</td>\n",
       "      <td>블루베리</td>\n",
       "      <td>C3202</td>\n",
       "    </tr>\n",
       "    <tr>\n",
       "      <th>3</th>\n",
       "      <td>2024-03-11</td>\n",
       "      <td>명동점</td>\n",
       "      <td>P1003</td>\n",
       "      <td>저지방 우유</td>\n",
       "      <td>C1239</td>\n",
       "    </tr>\n",
       "    <tr>\n",
       "      <th>4</th>\n",
       "      <td>2024-03-11</td>\n",
       "      <td>강남점</td>\n",
       "      <td>P1007</td>\n",
       "      <td>그릭요거트</td>\n",
       "      <td>C9368</td>\n",
       "    </tr>\n",
       "    <tr>\n",
       "      <th>...</th>\n",
       "      <td>...</td>\n",
       "      <td>...</td>\n",
       "      <td>...</td>\n",
       "      <td>...</td>\n",
       "      <td>...</td>\n",
       "    </tr>\n",
       "    <tr>\n",
       "      <th>195</th>\n",
       "      <td>2025-02-25</td>\n",
       "      <td>명동점</td>\n",
       "      <td>P1007</td>\n",
       "      <td>그릭요거트</td>\n",
       "      <td>C1896</td>\n",
       "    </tr>\n",
       "    <tr>\n",
       "      <th>196</th>\n",
       "      <td>2025-02-26</td>\n",
       "      <td>강남점</td>\n",
       "      <td>P1004</td>\n",
       "      <td>통밀 식빵</td>\n",
       "      <td>C8696</td>\n",
       "    </tr>\n",
       "    <tr>\n",
       "      <th>197</th>\n",
       "      <td>2025-02-27</td>\n",
       "      <td>명동점</td>\n",
       "      <td>P1003</td>\n",
       "      <td>저지방 우유</td>\n",
       "      <td>C2047</td>\n",
       "    </tr>\n",
       "    <tr>\n",
       "      <th>198</th>\n",
       "      <td>2025-02-28</td>\n",
       "      <td>홍대점</td>\n",
       "      <td>P1008</td>\n",
       "      <td>오트밀</td>\n",
       "      <td>C8563</td>\n",
       "    </tr>\n",
       "    <tr>\n",
       "      <th>199</th>\n",
       "      <td>2025-02-28</td>\n",
       "      <td>명동점</td>\n",
       "      <td>P1003</td>\n",
       "      <td>저지방 우유</td>\n",
       "      <td>C6486</td>\n",
       "    </tr>\n",
       "  </tbody>\n",
       "</table>\n",
       "<p>200 rows × 5 columns</p>\n",
       "</div>"
      ],
      "text/plain": [
       "           거래일자  매장명   상품코드     상품명   고객ID\n",
       "0    2024-03-03  명동점  P1009  유기농 당근  C5447\n",
       "1    2024-03-04  홍대점  P1005   닭가슴살팩  C9831\n",
       "2    2024-03-07  강남점  P1006    블루베리  C3202\n",
       "3    2024-03-11  명동점  P1003  저지방 우유  C1239\n",
       "4    2024-03-11  강남점  P1007   그릭요거트  C9368\n",
       "..          ...  ...    ...     ...    ...\n",
       "195  2025-02-25  명동점  P1007   그릭요거트  C1896\n",
       "196  2025-02-26  강남점  P1004   통밀 식빵  C8696\n",
       "197  2025-02-27  명동점  P1003  저지방 우유  C2047\n",
       "198  2025-02-28  홍대점  P1008     오트밀  C8563\n",
       "199  2025-02-28  명동점  P1003  저지방 우유  C6486\n",
       "\n",
       "[200 rows x 5 columns]"
      ]
     },
     "execution_count": 74,
     "metadata": {},
     "output_type": "execute_result"
    }
   ],
   "source": [
    "df.iloc[:,0:5]  # [: 로 전체 행, 0:5로 0~4번째까지의 컬럼 값을 호출"
   ]
  },
  {
   "cell_type": "code",
   "execution_count": 75,
   "metadata": {},
   "outputs": [
    {
     "data": {
      "text/html": [
       "<div>\n",
       "<style scoped>\n",
       "    .dataframe tbody tr th:only-of-type {\n",
       "        vertical-align: middle;\n",
       "    }\n",
       "\n",
       "    .dataframe tbody tr th {\n",
       "        vertical-align: top;\n",
       "    }\n",
       "\n",
       "    .dataframe thead th {\n",
       "        text-align: right;\n",
       "    }\n",
       "</style>\n",
       "<table border=\"1\" class=\"dataframe\">\n",
       "  <thead>\n",
       "    <tr style=\"text-align: right;\">\n",
       "      <th></th>\n",
       "      <th>성별</th>\n",
       "      <th>연령대</th>\n",
       "      <th>결제수단</th>\n",
       "      <th>수량</th>\n",
       "      <th>단가</th>\n",
       "    </tr>\n",
       "  </thead>\n",
       "  <tbody>\n",
       "    <tr>\n",
       "      <th>0</th>\n",
       "      <td>여</td>\n",
       "      <td>60대</td>\n",
       "      <td>현금</td>\n",
       "      <td>3.0</td>\n",
       "      <td>1800</td>\n",
       "    </tr>\n",
       "    <tr>\n",
       "      <th>5</th>\n",
       "      <td>남</td>\n",
       "      <td>40대</td>\n",
       "      <td>모바일페이</td>\n",
       "      <td>3.0</td>\n",
       "      <td>3000</td>\n",
       "    </tr>\n",
       "    <tr>\n",
       "      <th>10</th>\n",
       "      <td>여</td>\n",
       "      <td>40대</td>\n",
       "      <td>현금</td>\n",
       "      <td>1.0</td>\n",
       "      <td>3200</td>\n",
       "    </tr>\n",
       "    <tr>\n",
       "      <th>15</th>\n",
       "      <td>여</td>\n",
       "      <td>40대</td>\n",
       "      <td>카드</td>\n",
       "      <td>2.0</td>\n",
       "      <td>1800</td>\n",
       "    </tr>\n",
       "    <tr>\n",
       "      <th>20</th>\n",
       "      <td>남</td>\n",
       "      <td>30대</td>\n",
       "      <td>현금</td>\n",
       "      <td>5.0</td>\n",
       "      <td>1800</td>\n",
       "    </tr>\n",
       "    <tr>\n",
       "      <th>25</th>\n",
       "      <td>남</td>\n",
       "      <td>50대</td>\n",
       "      <td>모바일페이</td>\n",
       "      <td>5.0</td>\n",
       "      <td>3800</td>\n",
       "    </tr>\n",
       "    <tr>\n",
       "      <th>30</th>\n",
       "      <td>남</td>\n",
       "      <td>30대</td>\n",
       "      <td>카드</td>\n",
       "      <td>1.0</td>\n",
       "      <td>3200</td>\n",
       "    </tr>\n",
       "    <tr>\n",
       "      <th>35</th>\n",
       "      <td>남</td>\n",
       "      <td>20대</td>\n",
       "      <td>현금</td>\n",
       "      <td>2.0</td>\n",
       "      <td>1800</td>\n",
       "    </tr>\n",
       "    <tr>\n",
       "      <th>40</th>\n",
       "      <td>남</td>\n",
       "      <td>40대</td>\n",
       "      <td>현금</td>\n",
       "      <td>5.0</td>\n",
       "      <td>2500</td>\n",
       "    </tr>\n",
       "    <tr>\n",
       "      <th>45</th>\n",
       "      <td>남</td>\n",
       "      <td>60대</td>\n",
       "      <td>모바일페이</td>\n",
       "      <td>5.0</td>\n",
       "      <td>3200</td>\n",
       "    </tr>\n",
       "    <tr>\n",
       "      <th>50</th>\n",
       "      <td>여</td>\n",
       "      <td>30대</td>\n",
       "      <td>카드</td>\n",
       "      <td>3.0</td>\n",
       "      <td>4000</td>\n",
       "    </tr>\n",
       "    <tr>\n",
       "      <th>55</th>\n",
       "      <td>남</td>\n",
       "      <td>60대</td>\n",
       "      <td>모바일페이</td>\n",
       "      <td>5.0</td>\n",
       "      <td>2200</td>\n",
       "    </tr>\n",
       "    <tr>\n",
       "      <th>60</th>\n",
       "      <td>남</td>\n",
       "      <td>50대</td>\n",
       "      <td>현금</td>\n",
       "      <td>2.0</td>\n",
       "      <td>2200</td>\n",
       "    </tr>\n",
       "    <tr>\n",
       "      <th>65</th>\n",
       "      <td>여</td>\n",
       "      <td>20대</td>\n",
       "      <td>현금</td>\n",
       "      <td>1.0</td>\n",
       "      <td>3800</td>\n",
       "    </tr>\n",
       "    <tr>\n",
       "      <th>70</th>\n",
       "      <td>남</td>\n",
       "      <td>30대</td>\n",
       "      <td>카드</td>\n",
       "      <td>4.0</td>\n",
       "      <td>5000</td>\n",
       "    </tr>\n",
       "    <tr>\n",
       "      <th>75</th>\n",
       "      <td>여</td>\n",
       "      <td>20대</td>\n",
       "      <td>현금</td>\n",
       "      <td>2.0</td>\n",
       "      <td>1800</td>\n",
       "    </tr>\n",
       "    <tr>\n",
       "      <th>80</th>\n",
       "      <td>남</td>\n",
       "      <td>60대</td>\n",
       "      <td>카드</td>\n",
       "      <td>3.0</td>\n",
       "      <td>3800</td>\n",
       "    </tr>\n",
       "    <tr>\n",
       "      <th>85</th>\n",
       "      <td>남</td>\n",
       "      <td>50대</td>\n",
       "      <td>모바일페이</td>\n",
       "      <td>1.0</td>\n",
       "      <td>3000</td>\n",
       "    </tr>\n",
       "    <tr>\n",
       "      <th>90</th>\n",
       "      <td>여</td>\n",
       "      <td>20대</td>\n",
       "      <td>현금</td>\n",
       "      <td>4.0</td>\n",
       "      <td>1800</td>\n",
       "    </tr>\n",
       "    <tr>\n",
       "      <th>95</th>\n",
       "      <td>여</td>\n",
       "      <td>60대</td>\n",
       "      <td>모바일페이</td>\n",
       "      <td>1.0</td>\n",
       "      <td>4000</td>\n",
       "    </tr>\n",
       "  </tbody>\n",
       "</table>\n",
       "</div>"
      ],
      "text/plain": [
       "   성별  연령대   결제수단   수량    단가\n",
       "0   여  60대     현금  3.0  1800\n",
       "5   남  40대  모바일페이  3.0  3000\n",
       "10  여  40대     현금  1.0  3200\n",
       "15  여  40대     카드  2.0  1800\n",
       "20  남  30대     현금  5.0  1800\n",
       "25  남  50대  모바일페이  5.0  3800\n",
       "30  남  30대     카드  1.0  3200\n",
       "35  남  20대     현금  2.0  1800\n",
       "40  남  40대     현금  5.0  2500\n",
       "45  남  60대  모바일페이  5.0  3200\n",
       "50  여  30대     카드  3.0  4000\n",
       "55  남  60대  모바일페이  5.0  2200\n",
       "60  남  50대     현금  2.0  2200\n",
       "65  여  20대     현금  1.0  3800\n",
       "70  남  30대     카드  4.0  5000\n",
       "75  여  20대     현금  2.0  1800\n",
       "80  남  60대     카드  3.0  3800\n",
       "85  남  50대  모바일페이  1.0  3000\n",
       "90  여  20대     현금  4.0  1800\n",
       "95  여  60대  모바일페이  1.0  4000"
      ]
     },
     "execution_count": 75,
     "metadata": {},
     "output_type": "execute_result"
    }
   ],
   "source": [
    "df.iloc[0:100:5, 5:10] # 인덱스 기준으로 행은 0부터, 99까지 출력, 5개 단위로, 열은 5~9까지 5,6,7,8,9(5개 컬럼)"
   ]
  },
  {
   "cell_type": "code",
   "execution_count": 76,
   "metadata": {},
   "outputs": [
    {
     "data": {
      "text/plain": [
       "3800"
      ]
     },
     "execution_count": 76,
     "metadata": {},
     "output_type": "execute_result"
    }
   ],
   "source": [
    "df.iloc[150,9] # 행 인덱스 150번 데이터, 열 인덱스 9번 컬럼 값 출력"
   ]
  },
  {
   "cell_type": "code",
   "execution_count": 78,
   "metadata": {},
   "outputs": [
    {
     "name": "stderr",
     "output_type": "stream",
     "text": [
      "C:\\Users\\pooko\\AppData\\Local\\Temp\\ipykernel_18232\\2055994402.py:1: FutureWarning: Series.__getitem__ treating keys as positions is deprecated. In a future version, integer keys will always be treated as labels (consistent with DataFrame behavior). To access a value by position, use `ser.iloc[pos]`\n",
      "  df.iloc[150][9] # 동일한 결과이나, 위와는 작동방식이 조금 다름\n"
     ]
    },
    {
     "data": {
      "text/plain": [
       "3800"
      ]
     },
     "execution_count": 78,
     "metadata": {},
     "output_type": "execute_result"
    }
   ],
   "source": [
    "df.iloc[150][9] # 동일한 결과이나, 위와는 작동방식이 조금 다름\n",
    "# type(df.iloc[150]) -> series 출력됨.\n",
    "# 시리즈 중, 9번째 값을 의미\n",
    "# `df.iloc[150][9]`은 시리즈를 먼저 추출한 후, 그 시리즈의 9번째 요소를 다시 찾는 방식입니다.  \n",
    "# 열 순서가 바뀌면 다른 열이 출력될 수 있으므로, `.iloc[150, 9]`처럼 한 번에 지정하는 것이 더 안전합니다."
   ]
  },
  {
   "cell_type": "markdown",
   "metadata": {},
   "source": [
    "#### iloc는.\n",
    ".iloc는 어떤 특정 단일 데이터 값을 출력하여, 이를 비교하는 방법으로 많이 활용된다."
   ]
  },
  {
   "cell_type": "code",
   "execution_count": null,
   "metadata": {},
   "outputs": [],
   "source": [
    "## 인덱스를 지정하여 결과 출력\n",
    "idx = [1,3,5,7,9]\n",
    "df.iloc[idx,[5,13,3,5]]\n",
    "# idx에 포함된 행 중에\n",
    "# 열번호 5,13,3,5를 출력\n",
    "# 5가 두번 들어갔는데,동일 컬럼을 두번 넣는것도 가능"
   ]
  },
  {
   "cell_type": "markdown",
   "metadata": {},
   "source": [
    "### loc 방식의 필터링\n",
    "* .loc[n, [컬럼 리스트]] 형태로 활용하거나,  \n",
    "* .loc[조건] 형태로 활용함"
   ]
  },
  {
   "cell_type": "code",
   "execution_count": null,
   "metadata": {},
   "outputs": [],
   "source": [
    "df.loc[0:10:2,'매장명':'수량']"
   ]
  },
  {
   "cell_type": "code",
   "execution_count": null,
   "metadata": {},
   "outputs": [],
   "source": [
    "df.loc[30:10:-5, ['상품코드','고객ID','연령대']]"
   ]
  },
  {
   "cell_type": "markdown",
   "metadata": {},
   "source": [
    "### 조건에 의한 필터링\n",
    "\n",
    "| 연산자 | 의미             | 예시                        |\n",
    "|--------|------------------|-----------------------------|\n",
    "| `==`   | 같다             | `df['성별'] == '남성'`     |\n",
    "| `!=`   | 같지 않다        | `df['연령대'] != '30대'`   |\n",
    "| `>`    | 크다             | `df['단가'] > 3000`         |\n",
    "| `<`    | 작다             | `df['수량'] < 5`            |\n",
    "| `&`    | 그리고 (and)     | `(조건1) & (조건2)`        |\n",
    "| `|`    | 또는 (or)        | `(조건1) | (조건2)`        |\n",
    "| `()`   | 우선순위 지정    | 꼭 괄호로 감싸야 오류 없음 |\n",
    "\n"
   ]
  },
  {
   "cell_type": "code",
   "execution_count": null,
   "metadata": {},
   "outputs": [],
   "source": [
    "df.loc[df['수량'] >= 5].shape\n",
    "# 판매수량 5개 이상인 데이터는? 37개\n",
    "# 조건 연산자는 1차수 확인"
   ]
  },
  {
   "cell_type": "code",
   "execution_count": null,
   "metadata": {},
   "outputs": [],
   "source": [
    "df.loc[(df['수량'] >= 5) & (df['단가'] < 3000)].shape\n",
    "# 판매수량 5개 이상이면서, 단가 3000원 미만인 데이터는? 12개"
   ]
  },
  {
   "cell_type": "code",
   "execution_count": null,
   "metadata": {},
   "outputs": [],
   "source": [
    "df.loc[(df['수량'] >= 5) & (df['단가'] >= 2000) & (df['단가'] < 3000)].shape\n",
    "# 판매수량 5개 이상이면서, 단가 2천원 이상, 3천원 미만인 데이터는? 5개"
   ]
  },
  {
   "cell_type": "code",
   "execution_count": null,
   "metadata": {},
   "outputs": [],
   "source": [
    "# 조건이 점점 복잡해지면 이렇게 할 수 있습니다.\n",
    "con1 = df['할인율'] == 0.1\n",
    "con2 = df['상품명'] == '닭가슴살팩'\n",
    "con3 = df['단가'] >= 3000\n",
    "df.loc[con1 & con2 & con3]  # 3 조건을 모두 만족"
   ]
  },
  {
   "cell_type": "code",
   "execution_count": null,
   "metadata": {},
   "outputs": [],
   "source": [
    "con3 = df['단가'] >= 5000  # con3만 조건 수정\n",
    "df.loc[con1 & (con2 | con3)] # 할인율이 0.1이면서 → (닭가슴살팩이거나 단가가 5천원 이상) 인 조건"
   ]
  },
  {
   "cell_type": "code",
   "execution_count": null,
   "metadata": {},
   "outputs": [],
   "source": [
    "# 평균 마진률 이하이면서, 마진액이 1,000원 미만인 데이터 수\n",
    "mean_margin = df.마진율.mean()\n",
    "con4 = df['마진율'] <= mean_margin\n",
    "con5 = df['마진액'] <= 1000\n",
    "# .mean()으로 평균을 구합니다. \n",
    "# df['마진율'] 을 df.마진율 로 쓸수도 있습니다만, df['컬럼명']을 권장합니다.\n",
    "df.loc[con4 & con5].shape   # (30, 14) -> 30개"
   ]
  },
  {
   "cell_type": "markdown",
   "metadata": {},
   "source": [
    "### (파생변수)새로운 컬럼 생성\n",
    "* 파생변수 라고 합니다. 기존의 데이터들로부터, 새로운 데이터(정보)를 만들 수 있습니다.\n",
    "* 보통은 숫자 데이터의 조합으로 만들어냅니다.\n",
    "* df[새로운_변수명] = df[기존1] * df[기존2] 방식입니다.\n",
    "  * 아주 간단합니다."
   ]
  },
  {
   "cell_type": "code",
   "execution_count": null,
   "metadata": {},
   "outputs": [],
   "source": [
    "df\n",
    "# 데이터 기준으로 총 매출액은 수량*단가에서 할인금액을 제외한 금액입니다.\n",
    "# 판매가 = 수량*단가 (할인 전 금액)\n",
    "# 할인금액 = 판매가 - 매출액 을 만들어봅시다."
   ]
  },
  {
   "cell_type": "markdown",
   "metadata": {},
   "source": [
    "#### 사례1 - 판매가"
   ]
  },
  {
   "cell_type": "code",
   "execution_count": null,
   "metadata": {},
   "outputs": [],
   "source": [
    "df['판매가'] = df['수량'] * df['단가']"
   ]
  },
  {
   "cell_type": "code",
   "execution_count": null,
   "metadata": {},
   "outputs": [],
   "source": [
    "df.info()  ## 판매가 추가 확인."
   ]
  },
  {
   "cell_type": "markdown",
   "metadata": {},
   "source": [
    "#### 사례 2 - 할인금액"
   ]
  },
  {
   "cell_type": "code",
   "execution_count": null,
   "metadata": {},
   "outputs": [],
   "source": [
    "df['할인금액'] = df['판매가'] - df['매출액']\n",
    "df"
   ]
  },
  {
   "cell_type": "code",
   "execution_count": null,
   "metadata": {},
   "outputs": [],
   "source": [
    "df.info()"
   ]
  },
  {
   "cell_type": "code",
   "execution_count": null,
   "metadata": {},
   "outputs": [],
   "source": [
    "df.describe()"
   ]
  },
  {
   "cell_type": "markdown",
   "metadata": {},
   "source": [
    "#### 파생변수를 통한 데이터 필터링"
   ]
  },
  {
   "cell_type": "code",
   "execution_count": null,
   "metadata": {},
   "outputs": [],
   "source": [
    "# 할인금액 기준 75%분위수 이상, 연령대 30대 이하, 매출액 1만원 미만 데이터를 출력\n",
    "q3 = df['할인금액'].quantile(0.75)\n",
    "con6 = df['할인금액'] >= q3\n",
    "con7 = df['연령대'] <= '30대'\n",
    "con8 = df['매출액'] < 10000\n",
    "df.loc[con6 & con7 & con8]\n",
    "# 조건 요약:\n",
    "# - 할인금액이 상위 25%에 해당하면서 (`con6`)\n",
    "# - 연령대가 30대 이하이며 (`con7`)\n",
    "# - 매출액이 1만원 미만인 (`con8`) 경우만 필터링"
   ]
  },
  {
   "cell_type": "markdown",
   "metadata": {},
   "source": [
    "#### 사례3 - 그룹별 편차\n",
    "* 상황\n",
    "  * 매장명,성별 그룹별로 매출액 평균과, 각 거래의 매출액과 차이를 구한 '편차' 컬럼을 구해보자.\n",
    "  * (응용문제) 아직은 어려우실수 있습니다. groupby는 다음 차수에 자세하게 설명드리겠습니다.\n",
    "  * 일단 맛보기로 해봅시다."
   ]
  },
  {
   "cell_type": "code",
   "execution_count": null,
   "metadata": {},
   "outputs": [],
   "source": [
    "# 그룹별 평균을 구합니다.\n",
    "group_avg = df.groupby(['매장명','성별'])['매출액'].mean().round().astype('int64')\n",
    "# 경고는 무시"
   ]
  },
  {
   "cell_type": "markdown",
   "metadata": {},
   "source": [
    "##### 코드설명\n",
    "* group_avg = 블라블라블라.  -> a = 1 입니다. group_avg라는 변수에, 다음 내용을 넣는겁니다.\n",
    "* df.groupby(['그룹기준1','그룹기준2','그룹기준3'...])  -> 기준별로 데이터의 그룹을 만들어줍니다.\n",
    "* ['매출액'] -> 그룹을 지은 후, 매출액을 추출,\n",
    "* .mean() 평균을 구합니다. (그룹별로 구분하여 평균을 구함)\n",
    "* .round() 1자리로 반올림, .astype('int64') 정수 타입으로 형식 변경 "
   ]
  },
  {
   "cell_type": "code",
   "execution_count": null,
   "metadata": {},
   "outputs": [],
   "source": [
    "group_avg  # 그룹별 평균을 구했다."
   ]
  },
  {
   "cell_type": "markdown",
   "metadata": {},
   "source": [
    "※ 출력결과를 보면 ***Name:매출액*** 으로 적혀있습니다.  \n",
    "이 series의 이름이 매출액이라는 의미지요.  \n",
    "이대로 사용하면, 기존 df에 있는 '매출액'과 이름이 같아 충돌됩니다.  \n",
    "이것을 바꿔주어야 합니다."
   ]
  },
  {
   "cell_type": "code",
   "execution_count": null,
   "metadata": {},
   "outputs": [],
   "source": [
    "group_avg.rename('그룹별평균_tmp', inplace=True)\n",
    "# rename으로 이름을 바꿔줍니다, _tmp로 임시로 저장하는 것으로 처리해줍니다.\n",
    "# inplace=True를 통해, group_avg 자체를 바꿔줍니다. a = 1 효과\n",
    "# inplace=True를 사용하지 않으면, 이렇게 해야합니다.\n",
    "# -> group_avg = group_avg.rename('그룹평균')"
   ]
  },
  {
   "cell_type": "code",
   "execution_count": null,
   "metadata": {},
   "outputs": [],
   "source": [
    "group_avg #이름이 바뀌었는지 확인"
   ]
  },
  {
   "cell_type": "code",
   "execution_count": null,
   "metadata": {},
   "outputs": [],
   "source": [
    "# 그룹별 평균을 기존 df에 병합(엑셀의 vlookup)\n",
    "df['그룹별평균'] = df.merge(group_avg, on=['매장명', '성별'])['그룹별평균_tmp']\n",
    "df.head(5)  #그룹별 평균이 붙었는지 확인"
   ]
  },
  {
   "cell_type": "markdown",
   "metadata": {},
   "source": [
    "##### .merge() 코드설명\n",
    "* .merge는 두 테이블을 하나로 합치는 기능입니다. 엑셀의 vlookup과 유사합니다.\n",
    "  * 첫시간에 vlookup의 본질에 대해 설명드렸습니다. 두 테이블의 정보를 합치는 의미가 있다고 말씀드렸습니다.\n",
    "  * ***df***.merge(***group_avg***) 에서 볼 수 있듯. df 데이터를 기준으로, group_avg 데이터를 합칩니다.\n",
    "* on 은 데이터를 가져올 때의 기준입니다.\n",
    "  * 여기서는 group_avg는 매장명, 성별을 기준으로 구한 집계값을 넣어주는 것입니다.\n",
    "* ***df.merge(group_avg, on=['매장명', '성별'])*** 자체가 하나의 큰 df입니다.\n",
    "  * type(df.merge(group_avg, on=['매장명', '성별'])) 으로 확인해보세요\n",
    "  * df이름['컬럼이름']으로 하나의 컬럼만 시리즈로 불러올 수 있습니다.\n",
    "* df['그룹별평균'] = df.merge(~~~~~)['그룹별평균_tmp']\n",
    "  * df의 그룹별평균으로, df.merge한 또 하나의 df의 임시 컬럼임 그룹별평균_tmp를 저장해줍니다."
   ]
  },
  {
   "cell_type": "code",
   "execution_count": null,
   "metadata": {},
   "outputs": [],
   "source": [
    "# 편차를 구하기 매출액 - 평균\n",
    "df['편차'] = df['매출액'] - df['그룹별평균']\n",
    "df.sample(5)"
   ]
  },
  {
   "cell_type": "code",
   "execution_count": null,
   "metadata": {},
   "outputs": [],
   "source": [
    "df['편차'].plot.hist()  # 차트까지 그려볼 수 있다. 차트는 나중에 자세히 배워볼께요."
   ]
  },
  {
   "cell_type": "markdown",
   "metadata": {},
   "source": [
    "### ✍️ 필터링 연습하기\n",
    "1. df에서 매장명이 '명동점'인 데이터만 출력해보세요.\n",
    "2. df에서 인덱스 50~100번 행의 '상품명', '매출액' 컬럼만 출력해보세요.\n",
    "3. df에서 인덱스 50~100번 행 중 '할인율'이 0.2 이상인 데이터를 필터링하세요.\n",
    "\n",
    "### ✅ 다중 조건 필터링\n",
    "1. 다음 조건에 맞는 데이터를 추출해보세요:\n",
    "   - 수량이 3 이상이고, 단가가 2000 미만인 데이터만 필터링하세요.\n",
    "2. 다음 조건에 맞는 데이터를 추출해보세요:\n",
    "   - 할인율은 0.2 이상\n",
    "   - 결제수단은 '카드'\n",
    "   - 성별은 '여성'\n"
   ]
  },
  {
   "cell_type": "markdown",
   "metadata": {},
   "source": []
  }
 ],
 "metadata": {
  "kernelspec": {
   "display_name": "bibiml",
   "language": "python",
   "name": "python3"
  },
  "language_info": {
   "codemirror_mode": {
    "name": "ipython",
    "version": 3
   },
   "file_extension": ".py",
   "mimetype": "text/x-python",
   "name": "python",
   "nbconvert_exporter": "python",
   "pygments_lexer": "ipython3",
   "version": "3.11.11"
  }
 },
 "nbformat": 4,
 "nbformat_minor": 4
}
