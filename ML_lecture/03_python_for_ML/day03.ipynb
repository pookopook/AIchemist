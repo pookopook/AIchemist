{
 "cells": [
  {
   "cell_type": "markdown",
   "metadata": {},
   "source": [
    "### 컬럼 타입 바꾸기\n",
    "데이터를 적절하게 처리하기 위해서는 적절한 형식으로 변환해주어야합니다.\n",
    "다음과 같은 절차로 진행해 보겠습니다.\n",
    " 1. 컬럼과 타입을 먼저 확인, 어떻게 바꿔야 할 지 검토\n",
    " 2. 컬럼 리스트를 출력하여 복사합니다.\n",
    " 3. 타입별로 컬럼을 구분합니다.\n",
    " 4. 카테고리별로 컬럼 타입을 지정합니다.\n",
    " 5. describe()로 결과를 확인"
   ]
  },
  {
   "cell_type": "code",
   "execution_count": null,
   "metadata": {},
   "outputs": [
    {
     "name": "stdout",
     "output_type": "stream",
     "text": [
      "<class 'pandas.core.frame.DataFrame'>\n",
      "RangeIndex: 200 entries, 0 to 199\n",
      "Data columns (total 14 columns):\n",
      " #   Column  Non-Null Count  Dtype  \n",
      "---  ------  --------------  -----  \n",
      " 0   거래일자    200 non-null    object \n",
      " 1   매장명     200 non-null    object \n",
      " 2   상품코드    200 non-null    object \n",
      " 3   상품명     200 non-null    object \n",
      " 4   고객ID    198 non-null    object \n",
      " 5   성별      198 non-null    object \n",
      " 6   연령대     198 non-null    object \n",
      " 7   결제수단    200 non-null    object \n",
      " 8   수량      198 non-null    float64\n",
      " 9    단가     200 non-null    object \n",
      " 10  할인율     198 non-null    float64\n",
      " 11   총매출액   196 non-null    object \n",
      " 12  마진율     200 non-null    float64\n",
      " 13   마진액    196 non-null    object \n",
      "dtypes: float64(3), object(11)\n",
      "memory usage: 22.0+ KB\n"
     ]
    }
   ],
   "source": [
    "# 1. 컬럼 타입 확인\n",
    "df.info()   # 14개 컬럼, 8 수량 제외 모두 object 확인"
   ]
  },
  {
   "cell_type": "markdown",
   "metadata": {},
   "source": [
    "##### 컬럼의 구분\n",
    "※ df.columns 후 컬럼별로 구분해줌\n",
    "- 날짜 : '거래일자'\n",
    "- 텍스트 : '매장명', '상품코드', '상품명', '고객ID'\n",
    "- 카테고리\n",
    "  - 바이너리: '성별'\n",
    "  - 순위: '연령대'\n",
    "  - 명목: '결제수단' (카드, 현금 등 종류가 제한되나, 이들 간 서열은 없음)\n",
    "- 숫자\n",
    "  - 정수: '수량', '단가', '총매출액', '마진액'\n",
    "  - 소수: '할인율', '마진율'"
   ]
  },
  {
   "cell_type": "code",
   "execution_count": null,
   "metadata": {},
   "outputs": [
    {
     "data": {
      "text/plain": [
       "Index(['거래일자', '매장명', '상품코드', '상품명', '고객ID', '성별', '연령대', '결제수단', '수량', ' 단가 ',\n",
       "       '할인율', ' 총매출액 ', '마진율', ' 마진액 '],\n",
       "      dtype='object')"
      ]
     },
     "metadata": {},
     "output_type": "display_data"
    }
   ],
   "source": [
    "# 2. 컬럼 리스트 출력\n",
    "df.columns"
   ]
  },
  {
   "cell_type": "code",
   "execution_count": null,
   "metadata": {},
   "outputs": [],
   "source": [
    "# 3. 컬럼별로 카테고리 지정\n",
    "data_cols = ['거래일자']   # 리스트로 만들어줍니다.\n",
    "# text_cols = ['매장명', '상품코드', '상품명', '고객ID']  # text_cols는 굳이 지정해줄 필요가 없긴 합니다. 이미 object로 되어있습니다.\n",
    "cat_cols = ['성별', '연령대', '결제수단']  # 다른 카테고리이나 일단은 같이 묶어줍니다.\n",
    "int_cols = ['수량', '단가', '총매출액', '마진액']\n",
    "float_cols = ['할인율', '마진율']"
   ]
  },
  {
   "cell_type": "code",
   "execution_count": null,
   "metadata": {},
   "outputs": [
    {
     "name": "stdout",
     "output_type": "stream",
     "text": [
      "<class 'pandas.core.frame.DataFrame'>\n",
      "RangeIndex: 200 entries, 0 to 199\n",
      "Data columns (total 14 columns):\n",
      " #   Column  Non-Null Count  Dtype         \n",
      "---  ------  --------------  -----         \n",
      " 0   거래일자    200 non-null    datetime64[ns]\n",
      " 1   매장명     200 non-null    object        \n",
      " 2   상품코드    200 non-null    object        \n",
      " 3   상품명     200 non-null    object        \n",
      " 4   고객ID    198 non-null    object        \n",
      " 5   성별      198 non-null    object        \n",
      " 6   연령대     198 non-null    object        \n",
      " 7   결제수단    200 non-null    object        \n",
      " 8   수량      198 non-null    float64       \n",
      " 9    단가     200 non-null    object        \n",
      " 10  할인율     198 non-null    float64       \n",
      " 11   총매출액   196 non-null    object        \n",
      " 12  마진율     200 non-null    float64       \n",
      " 13   마진액    196 non-null    object        \n",
      "dtypes: datetime64[ns](1), float64(3), object(10)\n",
      "memory usage: 22.0+ KB\n"
     ]
    }
   ],
   "source": [
    "# 4. 컬럼 타입 지정(단일 컬럼 바꾸기)\n",
    "## '거래일자' 컬럼은 현재 object 형태입니다. date로 바꿔주겠습니다.\n",
    "df['거래일자'] = pd.to_datetime(df['거래일자'])\n",
    "#결과확인\n",
    "df.info() #  0   거래일자    200 non-null    '''datetime64[ns]''' 로 나오면 정상"
   ]
  },
  {
   "cell_type": "markdown",
   "metadata": {},
   "source": [
    "##### to_datetime 코드설명\n",
    "``` python\n",
    "df['거래일자'] = pd.to_datetime(df['거래일자'])\n",
    "```\n",
    "* 시리즈 (Series)\n",
    "  * df는 데이터프레임 전체이며, ['컬럼명']으로 데이터 프레임 중 일부 컬럼만을 불러올 수 있습니다.\n",
    "  * type(df['거래일자']) 을 해보면 'Series' 라는 데이터 타입을 볼 수 있습니다.\n",
    "  * 어떤 값만 한줄로 쭉 내려 적은 것으로, 1차원 데이터의 일종입니다.\n",
    "* df['거래일자'] = 의 의미\n",
    "  * 'a = 1' 과 동일합니다. a 라는 상자에 1을 넣는 것입니다.\n",
    "  * df['거래일자'] 라는 상자에, = 이후의 데이터를 넣는 것입니다.\n",
    "  * 기존 데이터가 있긴 한데, 덮어씌우는 것으로 생각하면 됩니다.\n",
    "* pd.to_datetime: 판다스의 날짜 변환 함수\n",
    "  * 판다스pd의, to_datetime(날짜/시간으로) -> 말 그대로 날짜(date) 데이터로(to) 라는 의미입니다.\n",
    "    * to_datetime(df['거래일자']) 라는 표현을 통해\n",
    "    * 기존 텍스트로 저장된 df['거래일자']를,\n",
    "    * to_datetime을 통해 날짜 형식으로 변환하고\n",
    "    * = 을 통해 변환된 형식으로 저장합니다."
   ]
  },
  {
   "cell_type": "code",
   "execution_count": null,
   "metadata": {},
   "outputs": [
    {
     "ename": "KeyError",
     "evalue": "'단가'",
     "output_type": "error",
     "traceback": [
      "\u001b[1;31m---------------------------------------------------------------------------\u001b[0m\n",
      "\u001b[1;31mKeyError\u001b[0m                                  Traceback (most recent call last)\n",
      "File \u001b[1;32mc:\\Users\\pooko\\anaconda3\\envs\\bibiml\\Lib\\site-packages\\pandas\\core\\indexes\\base.py:3802\u001b[0m, in \u001b[0;36mIndex.get_loc\u001b[1;34m(self, key, method, tolerance)\u001b[0m\n",
      "\u001b[0;32m   3801\u001b[0m \u001b[38;5;28;01mtry\u001b[39;00m:\n",
      "\u001b[1;32m-> 3802\u001b[0m     \u001b[38;5;28;01mreturn\u001b[39;00m \u001b[38;5;28;43mself\u001b[39;49m\u001b[38;5;241;43m.\u001b[39;49m\u001b[43m_engine\u001b[49m\u001b[38;5;241;43m.\u001b[39;49m\u001b[43mget_loc\u001b[49m\u001b[43m(\u001b[49m\u001b[43mcasted_key\u001b[49m\u001b[43m)\u001b[49m\n",
      "\u001b[0;32m   3803\u001b[0m \u001b[38;5;28;01mexcept\u001b[39;00m \u001b[38;5;167;01mKeyError\u001b[39;00m \u001b[38;5;28;01mas\u001b[39;00m err:\n",
      "\n",
      "File \u001b[1;32mc:\\Users\\pooko\\anaconda3\\envs\\bibiml\\Lib\\site-packages\\pandas\\_libs\\index.pyx:138\u001b[0m, in \u001b[0;36mpandas._libs.index.IndexEngine.get_loc\u001b[1;34m()\u001b[0m\n",
      "\n",
      "File \u001b[1;32mc:\\Users\\pooko\\anaconda3\\envs\\bibiml\\Lib\\site-packages\\pandas\\_libs\\index.pyx:165\u001b[0m, in \u001b[0;36mpandas._libs.index.IndexEngine.get_loc\u001b[1;34m()\u001b[0m\n",
      "\n",
      "File \u001b[1;32mpandas\\_libs\\hashtable_class_helper.pxi:5745\u001b[0m, in \u001b[0;36mpandas._libs.hashtable.PyObjectHashTable.get_item\u001b[1;34m()\u001b[0m\n",
      "\n",
      "File \u001b[1;32mpandas\\_libs\\hashtable_class_helper.pxi:5753\u001b[0m, in \u001b[0;36mpandas._libs.hashtable.PyObjectHashTable.get_item\u001b[1;34m()\u001b[0m\n",
      "\n",
      "\u001b[1;31mKeyError\u001b[0m: '단가'\n",
      "\n",
      "The above exception was the direct cause of the following exception:\n",
      "\n",
      "\u001b[1;31mKeyError\u001b[0m                                  Traceback (most recent call last)\n",
      "Cell \u001b[1;32mIn[15], line 3\u001b[0m\n",
      "\u001b[0;32m      1\u001b[0m \u001b[38;5;66;03m# 4. 컬럼 타입 지정(여러 컬럼 한번에 바꾸기)\u001b[39;00m\n",
      "\u001b[0;32m      2\u001b[0m \u001b[38;5;28;01mfor\u001b[39;00m col \u001b[38;5;129;01min\u001b[39;00m int_cols:\n",
      "\u001b[1;32m----> 3\u001b[0m     df[col] \u001b[38;5;241m=\u001b[39m pd\u001b[38;5;241m.\u001b[39mto_numeric(\u001b[43mdf\u001b[49m\u001b[43m[\u001b[49m\u001b[43mcol\u001b[49m\u001b[43m]\u001b[49m)\u001b[38;5;241m.\u001b[39mastype(\u001b[38;5;124m'\u001b[39m\u001b[38;5;124mInt64\u001b[39m\u001b[38;5;124m'\u001b[39m)\n",
      "\u001b[0;32m      4\u001b[0m df\u001b[38;5;241m.\u001b[39minfo()\n",
      "\n",
      "File \u001b[1;32mc:\\Users\\pooko\\anaconda3\\envs\\bibiml\\Lib\\site-packages\\pandas\\core\\frame.py:3807\u001b[0m, in \u001b[0;36mDataFrame.__getitem__\u001b[1;34m(self, key)\u001b[0m\n",
      "\u001b[0;32m   3805\u001b[0m \u001b[38;5;28;01mif\u001b[39;00m \u001b[38;5;28mself\u001b[39m\u001b[38;5;241m.\u001b[39mcolumns\u001b[38;5;241m.\u001b[39mnlevels \u001b[38;5;241m>\u001b[39m \u001b[38;5;241m1\u001b[39m:\n",
      "\u001b[0;32m   3806\u001b[0m     \u001b[38;5;28;01mreturn\u001b[39;00m \u001b[38;5;28mself\u001b[39m\u001b[38;5;241m.\u001b[39m_getitem_multilevel(key)\n",
      "\u001b[1;32m-> 3807\u001b[0m indexer \u001b[38;5;241m=\u001b[39m \u001b[38;5;28;43mself\u001b[39;49m\u001b[38;5;241;43m.\u001b[39;49m\u001b[43mcolumns\u001b[49m\u001b[38;5;241;43m.\u001b[39;49m\u001b[43mget_loc\u001b[49m\u001b[43m(\u001b[49m\u001b[43mkey\u001b[49m\u001b[43m)\u001b[49m\n",
      "\u001b[0;32m   3808\u001b[0m \u001b[38;5;28;01mif\u001b[39;00m is_integer(indexer):\n",
      "\u001b[0;32m   3809\u001b[0m     indexer \u001b[38;5;241m=\u001b[39m [indexer]\n",
      "\n",
      "File \u001b[1;32mc:\\Users\\pooko\\anaconda3\\envs\\bibiml\\Lib\\site-packages\\pandas\\core\\indexes\\base.py:3804\u001b[0m, in \u001b[0;36mIndex.get_loc\u001b[1;34m(self, key, method, tolerance)\u001b[0m\n",
      "\u001b[0;32m   3802\u001b[0m     \u001b[38;5;28;01mreturn\u001b[39;00m \u001b[38;5;28mself\u001b[39m\u001b[38;5;241m.\u001b[39m_engine\u001b[38;5;241m.\u001b[39mget_loc(casted_key)\n",
      "\u001b[0;32m   3803\u001b[0m \u001b[38;5;28;01mexcept\u001b[39;00m \u001b[38;5;167;01mKeyError\u001b[39;00m \u001b[38;5;28;01mas\u001b[39;00m err:\n",
      "\u001b[1;32m-> 3804\u001b[0m     \u001b[38;5;28;01mraise\u001b[39;00m \u001b[38;5;167;01mKeyError\u001b[39;00m(key) \u001b[38;5;28;01mfrom\u001b[39;00m\u001b[38;5;250m \u001b[39m\u001b[38;5;21;01merr\u001b[39;00m\n",
      "\u001b[0;32m   3805\u001b[0m \u001b[38;5;28;01mexcept\u001b[39;00m \u001b[38;5;167;01mTypeError\u001b[39;00m:\n",
      "\u001b[0;32m   3806\u001b[0m     \u001b[38;5;66;03m# If we have a listlike key, _check_indexing_error will raise\u001b[39;00m\n",
      "\u001b[0;32m   3807\u001b[0m     \u001b[38;5;66;03m#  InvalidIndexError. Otherwise we fall through and re-raise\u001b[39;00m\n",
      "\u001b[0;32m   3808\u001b[0m     \u001b[38;5;66;03m#  the TypeError.\u001b[39;00m\n",
      "\u001b[0;32m   3809\u001b[0m     \u001b[38;5;28mself\u001b[39m\u001b[38;5;241m.\u001b[39m_check_indexing_error(key)\n",
      "\n",
      "\u001b[1;31mKeyError\u001b[0m: '단가'"
     ]
    }
   ],
   "source": [
    "# 4. 컬럼 타입 지정(여러 컬럼 한번에 바꾸기)\n",
    "for col in int_cols:\n",
    "    df[col] = pd.to_numeric(df[col]).astype('Int64')\n",
    "df.info()"
   ]
  }
 ],
 "metadata": {
  "language_info": {
   "name": "python"
  }
 },
 "nbformat": 4,
 "nbformat_minor": 2
}
