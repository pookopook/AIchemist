{
 "cells": [
  {
   "cell_type": "markdown",
   "id": "e63d0d22",
   "metadata": {},
   "source": [
    "# library"
   ]
  },
  {
   "cell_type": "code",
   "execution_count": null,
   "id": "d49a669c",
   "metadata": {},
   "outputs": [],
   "source": [
    "import pandas as pd\n",
    "import numpy as np"
   ]
  },
  {
   "cell_type": "markdown",
   "id": "d135a279",
   "metadata": {},
   "source": [
    "# get boston data\n"
   ]
  }
 ],
 "metadata": {
  "kernelspec": {
   "display_name": "bibiml",
   "language": "python",
   "name": "python3"
  },
  "language_info": {
   "name": "python",
   "version": "3.11.11"
  }
 },
 "nbformat": 4,
 "nbformat_minor": 5
}
